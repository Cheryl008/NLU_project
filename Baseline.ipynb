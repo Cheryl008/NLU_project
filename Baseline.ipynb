{
  "nbformat": 4,
  "nbformat_minor": 0,
  "metadata": {
    "colab": {
      "name": "Baseline.ipynb",
      "provenance": [],
      "collapsed_sections": []
    },
    "kernelspec": {
      "name": "python3",
      "display_name": "Python 3"
    },
    "language_info": {
      "name": "python"
    }
  },
  "cells": [
    {
      "cell_type": "markdown",
      "source": [
        "# **Install Raw Data**"
      ],
      "metadata": {
        "id": "as9Sy3wUJFAU"
      }
    },
    {
      "cell_type": "code",
      "source": [
        "from google.colab import drive\n",
        "drive.mount('/content/drive')"
      ],
      "metadata": {
        "colab": {
          "base_uri": "https://localhost:8080/"
        },
        "id": "tX2dqyUnTDPS",
        "outputId": "ac6674e1-a76a-4d82-e2a1-7995e568d88c"
      },
      "execution_count": null,
      "outputs": [
        {
          "output_type": "stream",
          "name": "stdout",
          "text": [
            "Drive already mounted at /content/drive; to attempt to forcibly remount, call drive.mount(\"/content/drive\", force_remount=True).\n"
          ]
        }
      ]
    },
    {
      "cell_type": "code",
      "source": [
        "import pandas as pd"
      ],
      "metadata": {
        "id": "OtybZIsLJOqK"
      },
      "execution_count": null,
      "outputs": []
    },
    {
      "cell_type": "code",
      "source": [
        "train_data=pd.read_csv(\"drive/MyDrive/NLU 2022/agNews/train.csv\",header=0,names=['classid','title','desc'], nrows = 100)\n",
        "test_data=pd.read_csv(\"drive/MyDrive/NLU 2022/agNews/test.csv\",header=0,names=['classid','title','desc'], nrows = 10)"
      ],
      "metadata": {
        "id": "KuNK8996QocH"
      },
      "execution_count": null,
      "outputs": []
    },
    {
      "cell_type": "code",
      "source": [
        "train_data.head()"
      ],
      "metadata": {
        "colab": {
          "base_uri": "https://localhost:8080/",
          "height": 206
        },
        "id": "HPl4yprWS8rh",
        "outputId": "45bb39cd-c000-449f-ec28-6616ef60c3ea"
      },
      "execution_count": null,
      "outputs": [
        {
          "output_type": "execute_result",
          "data": {
            "text/plain": [
              "   classid                                              title  \\\n",
              "0        3  Wall St. Bears Claw Back Into the Black (Reuters)   \n",
              "1        3  Carlyle Looks Toward Commercial Aerospace (Reu...   \n",
              "2        3    Oil and Economy Cloud Stocks' Outlook (Reuters)   \n",
              "3        3  Iraq Halts Oil Exports from Main Southern Pipe...   \n",
              "4        3  Oil prices soar to all-time record, posing new...   \n",
              "\n",
              "                                                desc  \n",
              "0  Reuters - Short-sellers, Wall Street's dwindli...  \n",
              "1  Reuters - Private investment firm Carlyle Grou...  \n",
              "2  Reuters - Soaring crude prices plus worries\\ab...  \n",
              "3  Reuters - Authorities have halted oil export\\f...  \n",
              "4  AFP - Tearaway world oil prices, toppling reco...  "
            ],
            "text/html": [
              "\n",
              "  <div id=\"df-23f7afeb-d7f8-4224-bd78-8322e7a5e969\">\n",
              "    <div class=\"colab-df-container\">\n",
              "      <div>\n",
              "<style scoped>\n",
              "    .dataframe tbody tr th:only-of-type {\n",
              "        vertical-align: middle;\n",
              "    }\n",
              "\n",
              "    .dataframe tbody tr th {\n",
              "        vertical-align: top;\n",
              "    }\n",
              "\n",
              "    .dataframe thead th {\n",
              "        text-align: right;\n",
              "    }\n",
              "</style>\n",
              "<table border=\"1\" class=\"dataframe\">\n",
              "  <thead>\n",
              "    <tr style=\"text-align: right;\">\n",
              "      <th></th>\n",
              "      <th>classid</th>\n",
              "      <th>title</th>\n",
              "      <th>desc</th>\n",
              "    </tr>\n",
              "  </thead>\n",
              "  <tbody>\n",
              "    <tr>\n",
              "      <th>0</th>\n",
              "      <td>3</td>\n",
              "      <td>Wall St. Bears Claw Back Into the Black (Reuters)</td>\n",
              "      <td>Reuters - Short-sellers, Wall Street's dwindli...</td>\n",
              "    </tr>\n",
              "    <tr>\n",
              "      <th>1</th>\n",
              "      <td>3</td>\n",
              "      <td>Carlyle Looks Toward Commercial Aerospace (Reu...</td>\n",
              "      <td>Reuters - Private investment firm Carlyle Grou...</td>\n",
              "    </tr>\n",
              "    <tr>\n",
              "      <th>2</th>\n",
              "      <td>3</td>\n",
              "      <td>Oil and Economy Cloud Stocks' Outlook (Reuters)</td>\n",
              "      <td>Reuters - Soaring crude prices plus worries\\ab...</td>\n",
              "    </tr>\n",
              "    <tr>\n",
              "      <th>3</th>\n",
              "      <td>3</td>\n",
              "      <td>Iraq Halts Oil Exports from Main Southern Pipe...</td>\n",
              "      <td>Reuters - Authorities have halted oil export\\f...</td>\n",
              "    </tr>\n",
              "    <tr>\n",
              "      <th>4</th>\n",
              "      <td>3</td>\n",
              "      <td>Oil prices soar to all-time record, posing new...</td>\n",
              "      <td>AFP - Tearaway world oil prices, toppling reco...</td>\n",
              "    </tr>\n",
              "  </tbody>\n",
              "</table>\n",
              "</div>\n",
              "      <button class=\"colab-df-convert\" onclick=\"convertToInteractive('df-23f7afeb-d7f8-4224-bd78-8322e7a5e969')\"\n",
              "              title=\"Convert this dataframe to an interactive table.\"\n",
              "              style=\"display:none;\">\n",
              "        \n",
              "  <svg xmlns=\"http://www.w3.org/2000/svg\" height=\"24px\"viewBox=\"0 0 24 24\"\n",
              "       width=\"24px\">\n",
              "    <path d=\"M0 0h24v24H0V0z\" fill=\"none\"/>\n",
              "    <path d=\"M18.56 5.44l.94 2.06.94-2.06 2.06-.94-2.06-.94-.94-2.06-.94 2.06-2.06.94zm-11 1L8.5 8.5l.94-2.06 2.06-.94-2.06-.94L8.5 2.5l-.94 2.06-2.06.94zm10 10l.94 2.06.94-2.06 2.06-.94-2.06-.94-.94-2.06-.94 2.06-2.06.94z\"/><path d=\"M17.41 7.96l-1.37-1.37c-.4-.4-.92-.59-1.43-.59-.52 0-1.04.2-1.43.59L10.3 9.45l-7.72 7.72c-.78.78-.78 2.05 0 2.83L4 21.41c.39.39.9.59 1.41.59.51 0 1.02-.2 1.41-.59l7.78-7.78 2.81-2.81c.8-.78.8-2.07 0-2.86zM5.41 20L4 18.59l7.72-7.72 1.47 1.35L5.41 20z\"/>\n",
              "  </svg>\n",
              "      </button>\n",
              "      \n",
              "  <style>\n",
              "    .colab-df-container {\n",
              "      display:flex;\n",
              "      flex-wrap:wrap;\n",
              "      gap: 12px;\n",
              "    }\n",
              "\n",
              "    .colab-df-convert {\n",
              "      background-color: #E8F0FE;\n",
              "      border: none;\n",
              "      border-radius: 50%;\n",
              "      cursor: pointer;\n",
              "      display: none;\n",
              "      fill: #1967D2;\n",
              "      height: 32px;\n",
              "      padding: 0 0 0 0;\n",
              "      width: 32px;\n",
              "    }\n",
              "\n",
              "    .colab-df-convert:hover {\n",
              "      background-color: #E2EBFA;\n",
              "      box-shadow: 0px 1px 2px rgba(60, 64, 67, 0.3), 0px 1px 3px 1px rgba(60, 64, 67, 0.15);\n",
              "      fill: #174EA6;\n",
              "    }\n",
              "\n",
              "    [theme=dark] .colab-df-convert {\n",
              "      background-color: #3B4455;\n",
              "      fill: #D2E3FC;\n",
              "    }\n",
              "\n",
              "    [theme=dark] .colab-df-convert:hover {\n",
              "      background-color: #434B5C;\n",
              "      box-shadow: 0px 1px 3px 1px rgba(0, 0, 0, 0.15);\n",
              "      filter: drop-shadow(0px 1px 2px rgba(0, 0, 0, 0.3));\n",
              "      fill: #FFFFFF;\n",
              "    }\n",
              "  </style>\n",
              "\n",
              "      <script>\n",
              "        const buttonEl =\n",
              "          document.querySelector('#df-23f7afeb-d7f8-4224-bd78-8322e7a5e969 button.colab-df-convert');\n",
              "        buttonEl.style.display =\n",
              "          google.colab.kernel.accessAllowed ? 'block' : 'none';\n",
              "\n",
              "        async function convertToInteractive(key) {\n",
              "          const element = document.querySelector('#df-23f7afeb-d7f8-4224-bd78-8322e7a5e969');\n",
              "          const dataTable =\n",
              "            await google.colab.kernel.invokeFunction('convertToInteractive',\n",
              "                                                     [key], {});\n",
              "          if (!dataTable) return;\n",
              "\n",
              "          const docLinkHtml = 'Like what you see? Visit the ' +\n",
              "            '<a target=\"_blank\" href=https://colab.research.google.com/notebooks/data_table.ipynb>data table notebook</a>'\n",
              "            + ' to learn more about interactive tables.';\n",
              "          element.innerHTML = '';\n",
              "          dataTable['output_type'] = 'display_data';\n",
              "          await google.colab.output.renderOutput(dataTable, element);\n",
              "          const docLink = document.createElement('div');\n",
              "          docLink.innerHTML = docLinkHtml;\n",
              "          element.appendChild(docLink);\n",
              "        }\n",
              "      </script>\n",
              "    </div>\n",
              "  </div>\n",
              "  "
            ]
          },
          "metadata": {},
          "execution_count": 58
        }
      ]
    },
    {
      "cell_type": "code",
      "source": [
        "import matplotlib.pyplot as plt\n",
        "import seaborn as sns\n",
        "\n",
        "train_class = train_data['classid'].value_counts()\n",
        "print(train_class)\n",
        "\n",
        "plt.figure(figsize=(12,4))\n",
        "sns.barplot(train_class.index, train_class.values, alpha=0.8)\n",
        "plt.ylabel('Counts', fontsize=12)\n",
        "plt.xlabel('Class Index', fontsize=12)\n",
        "plt.xticks(rotation=90)\n",
        "plt.show()"
      ],
      "metadata": {
        "colab": {
          "base_uri": "https://localhost:8080/",
          "height": 388
        },
        "id": "Na4s2vzfSh33",
        "outputId": "6d659ab8-c451-4962-c643-3a47ddc0880e"
      },
      "execution_count": null,
      "outputs": [
        {
          "output_type": "stream",
          "name": "stdout",
          "text": [
            "3    78\n",
            "4    22\n",
            "Name: classid, dtype: int64\n"
          ]
        },
        {
          "output_type": "stream",
          "name": "stderr",
          "text": [
            "/usr/local/lib/python3.7/dist-packages/seaborn/_decorators.py:43: FutureWarning: Pass the following variables as keyword args: x, y. From version 0.12, the only valid positional argument will be `data`, and passing other arguments without an explicit keyword will result in an error or misinterpretation.\n",
            "  FutureWarning\n"
          ]
        },
        {
          "output_type": "display_data",
          "data": {
            "text/plain": [
              "<Figure size 864x288 with 1 Axes>"
            ],
            "image/png": "[encoded data removed]"
          },
          "metadata": {
            "needs_background": "light"
          }
        }
      ]
    },
    {
      "cell_type": "code",
      "source": [
        "test_class = test_data['classid'].value_counts()\n",
        "print(test_class)\n",
        "\n",
        "plt.figure(figsize=(12,4))\n",
        "sns.barplot(test_class.index, test_class.values, alpha=0.8)\n",
        "plt.ylabel('Counts', fontsize=12)\n",
        "plt.xlabel('Class Index', fontsize=12)\n",
        "plt.xticks(rotation=90)\n",
        "plt.show()"
      ],
      "metadata": {
        "colab": {
          "base_uri": "https://localhost:8080/",
          "height": 388
        },
        "id": "Udqcd0l0VkNk",
        "outputId": "5a7031bf-3a8f-4cc7-e262-acd7f458e3bc"
      },
      "execution_count": null,
      "outputs": [
        {
          "output_type": "stream",
          "name": "stdout",
          "text": [
            "4    9\n",
            "3    1\n",
            "Name: classid, dtype: int64\n"
          ]
        },
        {
          "output_type": "stream",
          "name": "stderr",
          "text": [
            "/usr/local/lib/python3.7/dist-packages/seaborn/_decorators.py:43: FutureWarning: Pass the following variables as keyword args: x, y. From version 0.12, the only valid positional argument will be `data`, and passing other arguments without an explicit keyword will result in an error or misinterpretation.\n",
            "  FutureWarning\n"
          ]
        },
        {
          "output_type": "display_data",
          "data": {
            "text/plain": [
              "<Figure size 864x288 with 1 Axes>"
            ],
            "image/png": "[encoded data removed]"
          },
          "metadata": {
            "needs_background": "light"
          }
        }
      ]
    },
    {
      "cell_type": "markdown",
      "source": [
        "# **Preprocessing**"
      ],
      "metadata": {
        "id": "7Z_ljTciWqFb"
      }
    },
    {
      "cell_type": "code",
      "source": [
        "import nltk\n",
        "import re\n",
        "nltk.download('stopwords')"
      ],
      "metadata": {
        "colab": {
          "base_uri": "https://localhost:8080/"
        },
        "id": "7zPQUDsKXdyd",
        "outputId": "e88e268a-be47-40de-a9f8-c5eb96ac4a60"
      },
      "execution_count": null,
      "outputs": [
        {
          "output_type": "stream",
          "name": "stdout",
          "text": [
            "[nltk_data] Downloading package stopwords to /root/nltk_data...\n",
            "[nltk_data]   Package stopwords is already up-to-date!\n"
          ]
        },
        {
          "output_type": "execute_result",
          "data": {
            "text/plain": [
              "True"
            ]
          },
          "metadata": {},
          "execution_count": 61
        }
      ]
    },
    {
      "cell_type": "code",
      "source": [
        "stopwords = nltk.corpus.stopwords.words(\"english\")\n",
        "stopwords_1 = stopwords + [\"dont\"]\n",
        "\n",
        "keep_words = ['of', 'at', 'by', 'for', 'with', 'about', 'against', 'between', 'into', 'through', 'during', 'before', 'after', 'above', 'below', 'to', 'from', 'up', 'down', 'in', 'out', 'on', 'off', 'over', 'under', 'again', 'further', 'no', 'nor', 'not', 'be', 'do', 'can', 'have']\n",
        "\n",
        "stopwords_2 = []\n",
        "for stop in stopwords:\n",
        "  if stop not in keep_words:\n",
        "    stopwords_2.append(stop)\n",
        "\n",
        "raw_train_title_list = train_data['title'].values.tolist()\n",
        "raw_train_description_list = train_data['desc'].values.tolist()"
      ],
      "metadata": {
        "id": "GeJdGdXoXip0"
      },
      "execution_count": null,
      "outputs": []
    },
    {
      "cell_type": "code",
      "source": [
        "def is_num(num):\n",
        "  pattern = re.compile(r'[-+]?[0-9\\.,]*[0-9][a-zA-Z]*$')\n",
        "  result = pattern.match(num)\n",
        "  return result\n",
        "\n",
        "def is_be(word):\n",
        "\tpattern = ['be', 'is', 'are', 'am', 'was', 'were', 'being', 'been']\n",
        "\treturn word in pattern\n",
        "\n",
        "def is_do(word):\n",
        "\tpattern = ['do', 'does', 'did', 'doing', 'done']\n",
        "\treturn word in pattern\n",
        "\n",
        "def is_dont(word):\n",
        "  pattern = [\"don't\", \"doesn't\"]\n",
        "  return word in pattern\n",
        "\n",
        "def is_cant(word):\n",
        "  pattern = [\"cannot\", \"can't\"]\n",
        "  return word in pattern\n",
        "\n",
        "def is_have(word):\n",
        "\tpattern = ['have', 'has', 'had', 'having']\n",
        "\treturn word in pattern\n",
        "\n",
        "def is_will(word):\n",
        "\tpattern = ['shall', 'should', 'will', 'would', 'd', 'll']\n",
        "\treturn word in pattern\n",
        "\n",
        "def is_get(word):\n",
        "\tpattern = ['get', 'gets', 'got', 'gotten', 'getting']\n",
        "\treturn word in pattern\n",
        "\n",
        "def is_seem(word):\n",
        "\tpattern = ['seem', 'seeming', 'seems', 'seemed']\n",
        "\treturn word in pattern\n",
        "\n",
        "def is_a(word):\n",
        "\tpattern = ['a', 'the', 'an', 'this', 'that']\n",
        "\treturn word in pattern\n",
        "\n",
        "def is_good(word):\n",
        "  pattern = ['good', 'better', 'best']\n",
        "  return word in pattern\n",
        "\n",
        "def is_bad(word):\n",
        "  pattern = ['bad', 'worse', 'worst']\n",
        "  return word in pattern\n",
        "\n",
        "def trans_num(title):\n",
        "  title_list = title.split(\" \")\n",
        "  new_title = []\n",
        "  for word in title_list:\n",
        "    if (is_num(word)):\n",
        "      word = \"isnum\"\n",
        "    new_title.append(word)\n",
        "  new_title = \" \".join(new_title)\n",
        "  return new_title"
      ],
      "metadata": {
        "id": "Olw7ocCnYpeH"
      },
      "execution_count": null,
      "outputs": []
    },
    {
      "cell_type": "code",
      "source": [
        "def preprocess(raw_title):\n",
        "  raw_lists = raw_title.split(\" \")\n",
        "  title = []\n",
        "  \n",
        "  for raw in raw_lists:\n",
        "\t\t#1. Case Folding\n",
        "    raw = str(raw.lower())\n",
        "\t\t#2. Lab Numbers\n",
        "    new_raw = trans_num(raw)\n",
        "\t\t#3. Remove Punctuations\n",
        "    letters_only = re.sub(\"[^a-zA-Z0-9]\", \" \", new_raw)\n",
        "    word_1 = \" \".join(letters_only.split())\n",
        "    words = word_1.split(\" \")\n",
        "\t \t#4. Stemming & Lemmatization\n",
        "    for word in words:\n",
        "      if (word == \"\"):\n",
        "        word = \"\"\n",
        "      elif (is_be(word)):\n",
        "        word = \"be\"\n",
        "      elif (is_do(word)):\n",
        "        word = \"do\"\n",
        "      elif (is_dont(word)):\n",
        "        word = \"do not\"\n",
        "      elif (is_cant(word)):\n",
        "        word = \"can not\"\n",
        "      elif (is_have(word)):\n",
        "        word = \"have\"\n",
        "      elif (is_will(word)):\n",
        "        word = \"will\"\n",
        "      elif (is_get(word)):\n",
        "        word = \"get\"\n",
        "      elif (is_seem(word)):\n",
        "        word = \"seem\"\n",
        "      elif (is_a(word)):\n",
        "        word = \"a\"\n",
        "      elif (is_num(word)):\n",
        "        word = \"is_num\"\n",
        "      elif (is_good(word)):\n",
        "        word = \"good\"\n",
        "      elif (is_bad(word)):\n",
        "        word = \"bad\"\n",
        "      elif (word[-3:] == \"ing\") & (len(word) > 5):\n",
        "        if word[-4] == word[-5]:\n",
        "          word = word[:-4]\n",
        "        elif word[-5] in ['a', 'e', 'i', 'o', 'u']:\n",
        "          word = word[:-3] + 'e'\n",
        "        else:\n",
        "          word = word[:-3]\n",
        "      elif(word[-3:] == \"ies\"):\n",
        "        word = word[:-3] + \"y\"\n",
        "      elif (word[-2:] == \"ed\") & (len(word) > 5):\n",
        "        word = word[:-2]\n",
        "      elif (word[-1] == \"s\") & (len(word) > 3):\n",
        "        word = word[:-1]\n",
        "\t\t\t# 5.1 remove all stopwords\n",
        "\t\t\t# if word not in stopwords_1:\n",
        "\t\t\t# \ttitle.append(word)\n",
        "\t\t\t# 5.2 remove partial stopwords\n",
        "\t\t\t# if word not in stopwords_2:\n",
        "\t\t\t# \ttitle.append(word)\n",
        "\t\t#5.3 keep stopwords\n",
        "    title.append(word)\n",
        "  title = \" \".join(title)\n",
        "  return title"
      ],
      "metadata": {
        "id": "ymn-VXi_ao8K"
      },
      "execution_count": null,
      "outputs": []
    },
    {
      "cell_type": "code",
      "source": [
        "title_list = []\n",
        "description_list = []\n",
        "\n",
        "for title in raw_train_title_list:\n",
        "  title_list.append(preprocess(title))\n",
        "\n",
        "for description in raw_train_description_list:\n",
        "  description_list.append(preprocess(description))"
      ],
      "metadata": {
        "id": "DthTp4N-arQK"
      },
      "execution_count": null,
      "outputs": []
    },
    {
      "cell_type": "code",
      "source": [
        "train_total = []\n",
        "\n",
        "for i in range(len(title_list)):\n",
        "  train_total.append(\" \".join(title_list[i].split()) + ' ' + \" \".join(description_list[i].split()))"
      ],
      "metadata": {
        "id": "DlIiOzPzeO4Q"
      },
      "execution_count": null,
      "outputs": []
    },
    {
      "cell_type": "code",
      "source": [
        "train_total[0]"
      ],
      "metadata": {
        "colab": {
          "base_uri": "https://localhost:8080/",
          "height": 35
        },
        "id": "l8LpWcT5X4d5",
        "outputId": "d9ae92d0-9965-43fe-ca90-f8604d037511"
      },
      "execution_count": null,
      "outputs": [
        {
          "output_type": "execute_result",
          "data": {
            "text/plain": [
              "'wall st bear claw back into a black reuter reuter seller wall s band of cynic be se green again'"
            ],
            "application/vnd.google.colaboratory.intrinsic+json": {
              "type": "string"
            }
          },
          "metadata": {},
          "execution_count": 67
        }
      ]
    },
    {
      "cell_type": "code",
      "source": [
        "test_total = []\n",
        "raw_test_title_list = test_data['title'].values.tolist()\n",
        "raw_test_description_list = test_data['desc'].values.tolist()\n",
        "\n",
        "for i in range(len(raw_test_title_list)):\n",
        "  title = preprocess(raw_test_title_list[i])\n",
        "  description = preprocess(raw_test_description_list[i])\n",
        "  test_total.append(\" \".join(title.split()) + ' ' + \" \".join(description.split()))"
      ],
      "metadata": {
        "id": "0afXBsi1kB5T"
      },
      "execution_count": null,
      "outputs": []
    },
    {
      "cell_type": "code",
      "source": [
        "test_total[0]"
      ],
      "metadata": {
        "colab": {
          "base_uri": "https://localhost:8080/",
          "height": 35
        },
        "id": "6pzDeUnek7yp",
        "outputId": "59f7a7e3-c315-4136-92bf-827a75e2fe75"
      },
      "execution_count": null,
      "outputs": [
        {
          "output_type": "execute_result",
          "data": {
            "text/plain": [
              "'fear for t n pension after talk union represent worker at turner newall say they be disappoint after talk with stricken parent firm federal mogul'"
            ],
            "application/vnd.google.colaboratory.intrinsic+json": {
              "type": "string"
            }
          },
          "metadata": {},
          "execution_count": 69
        }
      ]
    },
    {
      "cell_type": "markdown",
      "source": [
        "# **Word Preprocessing**"
      ],
      "metadata": {
        "id": "3yYNeNMDZri1"
      }
    },
    {
      "cell_type": "markdown",
      "source": [
        "### TF-IDF"
      ],
      "metadata": {
        "id": "Z5nLdDY9Z3LO"
      }
    },
    {
      "cell_type": "code",
      "source": [
        "import math\n",
        "\n",
        "def tf(word, sentence):\n",
        "  count = 0\n",
        "  for i in sentence:\n",
        "    if word == i:\n",
        "      count += 1\n",
        "  return count\n",
        "\n",
        "def idf(word):\n",
        "  total = len(train_total)\n",
        "  count = 0\n",
        "  train_sentences = []\n",
        "  for sentence in train_total:\n",
        "    if word in sentence.split(\" \"):\n",
        "      count += 1\n",
        "  value_1 = total / (count + 1)\n",
        "  value_2 = math.log(value_1)\n",
        "  value = round(value_2, 2)\n",
        "  return value"
      ],
      "metadata": {
        "id": "t220KJKuZw5-"
      },
      "execution_count": null,
      "outputs": []
    },
    {
      "cell_type": "markdown",
      "source": [
        "### Bag-of-words"
      ],
      "metadata": {
        "id": "P5kZcnPkaVoN"
      }
    },
    {
      "cell_type": "code",
      "source": [
        "bag = []\n",
        "train_sentences = []\n",
        "test_sentences = []\n",
        "\n",
        "for sentence in train_total:\n",
        "\tfor word in sentence.split(\" \"):\n",
        "\t\tif word not in bag:\n",
        "\t\t\tbag.append(word)\n",
        "\ttrain_sentences.append(sentence.split(\" \"))\n",
        "\n",
        "for sentence in test_total:\n",
        "\ttest_sentences.append(sentence.split(\" \"))"
      ],
      "metadata": {
        "id": "mJJ2wb3QaLcU"
      },
      "execution_count": null,
      "outputs": []
    },
    {
      "cell_type": "code",
      "source": [
        "def bow1_sentence2vector(sentence):\n",
        "\tvector = []\n",
        "\tfor i in range(len(bag)):\n",
        "\t\tvector.append(0)\n",
        "\tfor word in set(sentence):\n",
        "\t\ttf_value = tf(word, sentence)\n",
        "\t\tidf_value = idf(word)\n",
        "\t\tif word in bag:\n",
        "\t\t\tindex = bag.index(word)\n",
        "\t\t\tvector[index] = tf_value * idf_value\n",
        "\n",
        "\treturn vector"
      ],
      "metadata": {
        "id": "J2aVrVJosStJ"
      },
      "execution_count": null,
      "outputs": []
    },
    {
      "cell_type": "code",
      "source": [
        "X_train = []\n",
        "X_test = []\n",
        "\n",
        "for sentence in train_total:\n",
        "  X_train.append(bow1_sentence2vector(sentence))\n",
        "\n",
        "for sentence in test_total:\n",
        "\tX_test.append(bow1_sentence2vector(sentence))"
      ],
      "metadata": {
        "id": "PmGrgxlVqt9r"
      },
      "execution_count": null,
      "outputs": []
    },
    {
      "cell_type": "code",
      "source": [
        "len(X_train[1])"
      ],
      "metadata": {
        "colab": {
          "base_uri": "https://localhost:8080/"
        },
        "id": "LiyF-X5xrVVe",
        "outputId": "84f28c98-e3dd-4d2d-efdf-03fa3e3f0787"
      },
      "execution_count": null,
      "outputs": [
        {
          "output_type": "execute_result",
          "data": {
            "text/plain": [
              "1351"
            ]
          },
          "metadata": {},
          "execution_count": 78
        }
      ]
    },
    {
      "cell_type": "markdown",
      "source": [
        "# **Models**"
      ],
      "metadata": {
        "id": "rB7_pyEClLeE"
      }
    },
    {
      "cell_type": "markdown",
      "source": [
        "### K-means"
      ],
      "metadata": {
        "id": "VC8mnVLHlSW4"
      }
    },
    {
      "cell_type": "code",
      "source": [
        "from sklearn.cluster import KMeans\n",
        "import numpy as np"
      ],
      "metadata": {
        "id": "nkL4UaqglReQ"
      },
      "execution_count": null,
      "outputs": []
    },
    {
      "cell_type": "code",
      "source": [
        "true_k = 2\n",
        "clustering_model = KMeans(n_clusters = true_k, \n",
        "                          init = 'k-means++',\n",
        "                          max_iter = 300, n_init = 10)\n",
        "clustering_model.fit(np.array(X_train))\n",
        " \n",
        "clustering_model.labels_"
      ],
      "metadata": {
        "colab": {
          "base_uri": "https://localhost:8080/"
        },
        "id": "Xem3pOd9lP9n",
        "outputId": "8c0b50f1-7469-411c-b270-042e91732291"
      },
      "execution_count": null,
      "outputs": [
        {
          "output_type": "execute_result",
          "data": {
            "text/plain": [
              "array([0, 0, 0, 1, 0, 0, 0, 0, 1, 0, 0, 0, 0, 0, 0, 0, 0, 0, 0, 0, 0, 0,\n",
              "       0, 0, 0, 0, 0, 0, 0, 0, 0, 0, 0, 0, 0, 0, 0, 0, 1, 1, 1, 0, 0, 1,\n",
              "       1, 0, 0, 0, 0, 0, 0, 0, 0, 0, 0, 0, 0, 0, 0, 1, 0, 1, 1, 1, 1, 1,\n",
              "       1, 1, 0, 1, 1, 0, 0, 0, 0, 0, 0, 0, 1, 0, 0, 0, 0, 0, 0, 0, 0, 0,\n",
              "       0, 0, 1, 0, 0, 0, 0, 0, 0, 0, 0, 1], dtype=int32)"
            ]
          },
          "metadata": {},
          "execution_count": 80
        }
      ]
    },
    {
      "cell_type": "code",
      "source": [
        "clustering_model.predict(np.array(X_test))"
      ],
      "metadata": {
        "colab": {
          "base_uri": "https://localhost:8080/"
        },
        "id": "Np4J311axmVh",
        "outputId": "0665358e-5cd5-435b-cca7-5c6e4589d8a2"
      },
      "execution_count": null,
      "outputs": [
        {
          "output_type": "execute_result",
          "data": {
            "text/plain": [
              "array([0, 1, 0, 1, 0, 1, 1, 1, 0, 0], dtype=int32)"
            ]
          },
          "metadata": {},
          "execution_count": 83
        }
      ]
    },
    {
      "cell_type": "markdown",
      "source": [
        "### Fuzzy C Means"
      ],
      "metadata": {
        "id": "-ztDrQE7xybQ"
      }
    },
    {
      "cell_type": "code",
      "source": [
        "!pip install fuzzy-c-means"
      ],
      "metadata": {
        "colab": {
          "base_uri": "https://localhost:8080/"
        },
        "id": "5mm0R46uxvgL",
        "outputId": "a04a0b29-f0eb-46c4-8960-089303c26a89"
      },
      "execution_count": null,
      "outputs": [
        {
          "output_type": "stream",
          "name": "stdout",
          "text": [
            "Collecting fuzzy-c-means\n",
            "  Downloading fuzzy_c_means-1.6.3-py3-none-any.whl (9.1 kB)\n",
            "Collecting pydantic<2.0.0,>=1.8.2\n",
            "  Downloading pydantic-1.9.0-cp37-cp37m-manylinux_2_17_x86_64.manylinux2014_x86_64.whl (10.9 MB)\n",
            "\u001b[K     |████████████████████████████████| 10.9 MB 5.3 MB/s \n",
            "\u001b[?25hRequirement already satisfied: numpy<2.0.0,>=1.21.1 in /usr/local/lib/python3.7/dist-packages (from fuzzy-c-means) (1.21.5)\n",
            "Collecting typer<0.4.0,>=0.3.2\n",
            "  Downloading typer-0.3.2-py3-none-any.whl (21 kB)\n",
            "Requirement already satisfied: tabulate<0.9.0,>=0.8.9 in /usr/local/lib/python3.7/dist-packages (from fuzzy-c-means) (0.8.9)\n",
            "Requirement already satisfied: typing-extensions>=3.7.4.3 in /usr/local/lib/python3.7/dist-packages (from pydantic<2.0.0,>=1.8.2->fuzzy-c-means) (4.1.1)\n",
            "Requirement already satisfied: click<7.2.0,>=7.1.1 in /usr/local/lib/python3.7/dist-packages (from typer<0.4.0,>=0.3.2->fuzzy-c-means) (7.1.2)\n",
            "Installing collected packages: typer, pydantic, fuzzy-c-means\n",
            "Successfully installed fuzzy-c-means-1.6.3 pydantic-1.9.0 typer-0.3.2\n"
          ]
        }
      ]
    },
    {
      "cell_type": "code",
      "source": [
        "from fcmeans import FCM"
      ],
      "metadata": {
        "id": "vS_xvbv9zNte"
      },
      "execution_count": null,
      "outputs": []
    },
    {
      "cell_type": "code",
      "source": [
        "fcm = FCM(n_clusters=2)"
      ],
      "metadata": {
        "id": "aX6VXkdJzWdc"
      },
      "execution_count": null,
      "outputs": []
    },
    {
      "cell_type": "code",
      "source": [
        "fcm.fit(np.array(X_train))"
      ],
      "metadata": {
        "id": "TUmvLXQ0zZ8w"
      },
      "execution_count": null,
      "outputs": []
    },
    {
      "cell_type": "code",
      "source": [
        "fcm.predict(np.array(X_test))"
      ],
      "metadata": {
        "colab": {
          "base_uri": "https://localhost:8080/"
        },
        "id": "ErGpRmoVzgck",
        "outputId": "d3aa11ac-e6d6-41e5-8c79-8dfe9add736a"
      },
      "execution_count": null,
      "outputs": [
        {
          "output_type": "execute_result",
          "data": {
            "text/plain": [
              "array([0, 1, 1, 1, 0, 1, 1, 1, 0, 0])"
            ]
          },
          "metadata": {},
          "execution_count": 89
        }
      ]
    },
    {
      "cell_type": "code",
      "source": [
        "test_data['classid'].values.tolist()"
      ],
      "metadata": {
        "colab": {
          "base_uri": "https://localhost:8080/"
        },
        "id": "1vVFMd3Wzlnt",
        "outputId": "855a6159-94b8-4776-c4b2-cc8391938809"
      },
      "execution_count": null,
      "outputs": [
        {
          "output_type": "execute_result",
          "data": {
            "text/plain": [
              "[3, 4, 4, 4, 4, 4, 4, 4, 4, 4]"
            ]
          },
          "metadata": {},
          "execution_count": 92
        }
      ]
    },
    {
      "cell_type": "markdown",
      "source": [
        "### LDA"
      ],
      "metadata": {
        "id": "bMkexO4fz1g7"
      }
    },
    {
      "cell_type": "code",
      "source": [
        "from sklearn.decomposition import LatentDirichletAllocation"
      ],
      "metadata": {
        "id": "DagJL-_JzzS2"
      },
      "execution_count": null,
      "outputs": []
    },
    {
      "cell_type": "code",
      "source": [
        "lda = LatentDirichletAllocation(n_components=2, random_state=0)"
      ],
      "metadata": {
        "id": "aSehrY9A-LBC"
      },
      "execution_count": null,
      "outputs": []
    },
    {
      "cell_type": "code",
      "source": [
        "lda.fit(np.array(X_train))\n",
        "\n",
        "doc_topic_dist_unnormalized = np.matrix(lda.transform(np.array(X_test)))"
      ],
      "metadata": {
        "id": "fnkM_un_-YLh"
      },
      "execution_count": null,
      "outputs": []
    },
    {
      "cell_type": "code",
      "source": [
        "doc_topic_dist = doc_topic_dist_unnormalized/doc_topic_dist_unnormalized.sum(axis=1)\n",
        "doc_topic_dist"
      ],
      "metadata": {
        "colab": {
          "base_uri": "https://localhost:8080/"
        },
        "id": "PGgtSAMC_lOh",
        "outputId": "49afd07b-ed92-4b9a-8008-d6a7fbeb08a7"
      },
      "execution_count": null,
      "outputs": [
        {
          "output_type": "execute_result",
          "data": {
            "text/plain": [
              "matrix([[9.97003080e-01, 2.99692002e-03],\n",
              "        [9.98330715e-01, 1.66928469e-03],\n",
              "        [9.98018804e-01, 1.98119634e-03],\n",
              "        [9.98193063e-01, 1.80693746e-03],\n",
              "        [9.97529400e-01, 2.47059973e-03],\n",
              "        [9.99463436e-01, 5.36564302e-04],\n",
              "        [9.99214606e-01, 7.85394399e-04],\n",
              "        [9.99328914e-01, 6.71085684e-04],\n",
              "        [9.95235386e-01, 4.76461398e-03],\n",
              "        [9.96929472e-01, 3.07052841e-03]])"
            ]
          },
          "metadata": {},
          "execution_count": 102
        }
      ]
    },
    {
      "cell_type": "code",
      "source": [
        "doc_topic_dist.argmax(axis=1)"
      ],
      "metadata": {
        "colab": {
          "base_uri": "https://localhost:8080/"
        },
        "id": "IbMAz3jTAKyN",
        "outputId": "06ef0691-5bcc-45c7-84b8-68c8ceb0a027"
      },
      "execution_count": null,
      "outputs": [
        {
          "output_type": "execute_result",
          "data": {
            "text/plain": [
              "matrix([[0],\n",
              "        [0],\n",
              "        [0],\n",
              "        [0],\n",
              "        [0],\n",
              "        [0],\n",
              "        [0],\n",
              "        [0],\n",
              "        [0],\n",
              "        [0]])"
            ]
          },
          "metadata": {},
          "execution_count": 104
        }
      ]
    },
    {
      "cell_type": "markdown",
      "source": [
        "### Deep Embedded Clustering"
      ],
      "metadata": {
        "id": "f4BOtrUpBFk_"
      }
    },
    {
      "cell_type": "code",
      "source": [
        "from keras.preprocessing.text import Tokenizer\n",
        "from keras.preprocessing.sequence import pad_sequences\n",
        "from sklearn.preprocessing import MinMaxScaler\n",
        "\n",
        "\n",
        "maxlen = 4096 #only use this number of most frequent words\n",
        "training_samples = 8000\n",
        "validation_samples = 4500\n",
        "max_words = 100000"
      ],
      "metadata": {
        "id": "vCPMf53LI9X5"
      },
      "execution_count": null,
      "outputs": []
    },
    {
      "cell_type": "code",
      "source": [
        "from sklearn.feature_extraction.text import TfidfVectorizer\n",
        "\n",
        "vectorizer = TfidfVectorizer(max_features=max_words)\n",
        "\n",
        "numeric_columns = train_data.columns.values.tolist()\n",
        "\n",
        "train = vectorizer.fit_transform(train_total)\n",
        "\n",
        "train"
      ],
      "metadata": {
        "colab": {
          "base_uri": "https://localhost:8080/"
        },
        "id": "hsp4j4twI_au",
        "outputId": "93a98a59-3809-45c7-cd3a-455bb005bbed"
      },
      "execution_count": null,
      "outputs": [
        {
          "output_type": "execute_result",
          "data": {
            "text/plain": [
              "<100x1343 sparse matrix of type '<class 'numpy.float64'>'\n",
              "\twith 2785 stored elements in Compressed Sparse Row format>"
            ]
          },
          "metadata": {},
          "execution_count": 156
        }
      ]
    },
    {
      "cell_type": "code",
      "source": [
        "tokenizer = Tokenizer(num_words=max_words)\n",
        "tokenizer.fit_on_texts(train_total) # generates word index\n",
        "sequences = tokenizer.texts_to_sequences(train_total) # transforms strings in list of intergers\n",
        "word_index = tokenizer.word_index # calculated word index\n",
        "print(f\"{len(word_index)} unique tokens found\")\n",
        "\n",
        "data = pad_sequences(sequences, maxlen=maxlen) #transforms integer lists into 2D tensor"
      ],
      "metadata": {
        "colab": {
          "base_uri": "https://localhost:8080/"
        },
        "id": "JxN9B0M3JoTH",
        "outputId": "d868726f-6e66-43ad-d199-aa1c2f80e49e"
      },
      "execution_count": null,
      "outputs": [
        {
          "output_type": "stream",
          "name": "stdout",
          "text": [
            "1352 unique tokens found\n"
          ]
        }
      ]
    },
    {
      "cell_type": "code",
      "source": [
        "scaler = MinMaxScaler() \n",
        "data_1 = scaler.fit_transform(data)"
      ],
      "metadata": {
        "id": "1NrIlRMWK0XG"
      },
      "execution_count": null,
      "outputs": []
    },
    {
      "cell_type": "code",
      "source": [
        "x = data_1\n",
        "x"
      ],
      "metadata": {
        "colab": {
          "base_uri": "https://localhost:8080/"
        },
        "id": "8zu9xbvWK1c6",
        "outputId": "df0af9af-79a0-4ea3-cc5e-7cc80516bcc4"
      },
      "execution_count": null,
      "outputs": [
        {
          "output_type": "execute_result",
          "data": {
            "text/plain": [
              "array([[0.        , 0.        , 0.        , ..., 0.10951526, 0.2081142 ,\n",
              "        0.05450416],\n",
              "       [0.        , 0.        , 0.        , ..., 0.00448833, 0.        ,\n",
              "        0.01211204],\n",
              "       [0.        , 0.        , 0.        , ..., 0.00448833, 0.13824192,\n",
              "        0.21120363],\n",
              "       ...,\n",
              "       [0.        , 0.        , 0.        , ..., 0.01436266, 1.        ,\n",
              "        1.        ],\n",
              "       [0.        , 0.        , 0.        , ..., 0.10233393, 0.00150263,\n",
              "        0.36866011],\n",
              "       [0.        , 0.        , 0.        , ..., 0.        , 0.13373403,\n",
              "        0.38152914]])"
            ]
          },
          "metadata": {},
          "execution_count": 159
        }
      ]
    },
    {
      "cell_type": "code",
      "source": [
        "from time import time\n",
        "import keras.backend as K\n",
        "from tensorflow.keras.layers import Layer, InputSpec\n",
        "from keras.layers import Dense, Input, Embedding\n",
        "from keras.models import Model\n",
        "from tensorflow.keras.optimizers import SGD\n",
        "from keras import callbacks\n",
        "from keras.initializers import VarianceScaling\n",
        "from sklearn.cluster import KMeans\n",
        "import matplotlib.pyplot as plt\n",
        "\n",
        "%matplotlib inline"
      ],
      "metadata": {
        "id": "rb0cY5VFBJVp"
      },
      "execution_count": null,
      "outputs": []
    },
    {
      "cell_type": "code",
      "source": [
        "def autoencoder(dims, act='relu', init='glorot_uniform'):\n",
        "    \"\"\"\n",
        "    Fully connected symmetric auto-encoder model.\n",
        "  \n",
        "    dims: list of the sizes of layers of encoder like [500, 500, 2000, 10]. \n",
        "          dims[0] is input dim, dims[-1] is size of the latent hidden layer.\n",
        "\n",
        "    act: activation function\n",
        "    \n",
        "    return:\n",
        "        (autoencoder_model, encoder_model): Model of autoencoder and model of encoder\n",
        "    \"\"\"\n",
        "    n_stacks = len(dims) - 1\n",
        "    \n",
        "    input_data = Input(shape=(dims[0],), name='input')\n",
        "    x = input_data\n",
        "    \n",
        "    # internal layers of encoder\n",
        "    for i in range(n_stacks-1):\n",
        "        x = Dense(dims[i + 1], activation=act, kernel_initializer=init, name='encoder_%d' % i)(x)\n",
        "\n",
        "    # latent hidden layer\n",
        "    encoded = Dense(dims[-1], kernel_initializer=init, name='encoder_%d' % (n_stacks - 1))(x)\n",
        "\n",
        "    x = encoded\n",
        "    # internal layers of decoder\n",
        "    for i in range(n_stacks-1, 0, -1):\n",
        "        x = Dense(dims[i], activation=act, kernel_initializer=init, name='decoder_%d' % i)(x)\n",
        "\n",
        "    # decoder output\n",
        "    x = Dense(dims[0], kernel_initializer=init, name='decoder_0')(x)\n",
        "    \n",
        "    decoded = x\n",
        "    \n",
        "    autoencoder_model = Model(inputs=input_data, outputs=decoded, name='autoencoder')\n",
        "    encoder_model     = Model(inputs=input_data, outputs=encoded, name='encoder')\n",
        "    \n",
        "    return autoencoder_model, encoder_model"
      ],
      "metadata": {
        "id": "zc4yOaXSGSQ4"
      },
      "execution_count": null,
      "outputs": []
    },
    {
      "cell_type": "code",
      "source": [
        "n_clusters = 2 \n",
        "n_epochs   = 15\n",
        "batch_size = 128"
      ],
      "metadata": {
        "id": "KZv3CZxaGV_t"
      },
      "execution_count": null,
      "outputs": []
    },
    {
      "cell_type": "code",
      "source": [
        "dims = [x.shape[-1], 500, 500, 2000, 10] \n",
        "init = VarianceScaling(scale=1. / 3., mode='fan_in',\n",
        "                           distribution='uniform')\n",
        "pretrain_optimizer = SGD(lr=1, momentum=0.9)\n",
        "pretrain_epochs = n_epochs\n",
        "batch_size = batch_size\n",
        "save_dir = 'kaggle/working'"
      ],
      "metadata": {
        "colab": {
          "base_uri": "https://localhost:8080/"
        },
        "id": "-CcUx2L-GY2F",
        "outputId": "27902a69-32a8-491f-a24f-2073a316e548"
      },
      "execution_count": null,
      "outputs": [
        {
          "output_type": "stream",
          "name": "stderr",
          "text": [
            "/usr/local/lib/python3.7/dist-packages/keras/optimizer_v2/gradient_descent.py:102: UserWarning: The `lr` argument is deprecated, use `learning_rate` instead.\n",
            "  super(SGD, self).__init__(name, **kwargs)\n"
          ]
        }
      ]
    },
    {
      "cell_type": "code",
      "source": [
        "dims"
      ],
      "metadata": {
        "colab": {
          "base_uri": "https://localhost:8080/"
        },
        "id": "mApfiIpNGir7",
        "outputId": "4a4cb659-926a-46c8-e1dc-4c0212506c1c"
      },
      "execution_count": null,
      "outputs": [
        {
          "output_type": "execute_result",
          "data": {
            "text/plain": [
              "[4096, 500, 500, 2000, 10]"
            ]
          },
          "metadata": {},
          "execution_count": 164
        }
      ]
    },
    {
      "cell_type": "code",
      "source": [
        "class ClusteringLayer(Layer):\n",
        "    '''\n",
        "    Clustering layer converts input sample (feature) to soft label, i.e. a vector that represents the probability of the\n",
        "    sample belonging to each cluster. The probability is calculated with student's t-distribution.\n",
        "    '''\n",
        "\n",
        "    def __init__(self, n_clusters, weights=None, alpha=1.0, **kwargs):\n",
        "        if 'input_shape' not in kwargs and 'input_dim' in kwargs:\n",
        "            kwargs['input_shape'] = (kwargs.pop('input_dim'),)\n",
        "        super(ClusteringLayer, self).__init__(**kwargs)\n",
        "        self.n_clusters = n_clusters\n",
        "        self.alpha = alpha\n",
        "        self.initial_weights = weights\n",
        "        self.input_spec = InputSpec(ndim=2)\n",
        "\n",
        "    def build(self, input_shape):\n",
        "        assert len(input_shape) == 2\n",
        "        input_dim = input_shape[1]\n",
        "        self.input_spec = InputSpec(dtype=K.floatx(), shape=(None, input_dim))\n",
        "        self.clusters = self.add_weight(name='clusters', shape=(self.n_clusters, input_dim), initializer='glorot_uniform') \n",
        "        \n",
        "        if self.initial_weights is not None:\n",
        "            self.set_weights(self.initial_weights)\n",
        "            del self.initial_weights\n",
        "        self.built = True\n",
        "\n",
        "    def call(self, inputs, **kwargs):\n",
        "        ''' \n",
        "        student t-distribution, as used in t-SNE algorithm.\n",
        "        It measures the similarity between embedded point z_i and centroid µ_j.\n",
        "                 q_ij = 1/(1+dist(x_i, µ_j)^2), then normalize it.\n",
        "                 q_ij can be interpreted as the probability of assigning sample i to cluster j.\n",
        "                 (i.e., a soft assignment)\n",
        "       \n",
        "        inputs: the variable containing data, shape=(n_samples, n_features)\n",
        "        \n",
        "        Return: student's t-distribution, or soft labels for each sample. shape=(n_samples, n_clusters)\n",
        "        '''\n",
        "        q = 1.0 / (1.0 + (K.sum(K.square(K.expand_dims(inputs, axis=1) - self.clusters), axis=2) / self.alpha))\n",
        "        q **= (self.alpha + 1.0) / 2.0\n",
        "        q = K.transpose(K.transpose(q) / K.sum(q, axis=1)) # Make sure all of the values of each sample sum up to 1.\n",
        "        \n",
        "        return q\n",
        "\n",
        "    def compute_output_shape(self, input_shape):\n",
        "        assert input_shape and len(input_shape) == 2\n",
        "        return input_shape[0], self.n_clusters\n",
        "\n",
        "    def get_config(self):\n",
        "        config = {'n_clusters': self.n_clusters}\n",
        "        base_config = super(ClusteringLayer, self).get_config()\n",
        "        return dict(list(base_config.items()) + list(config.items()))"
      ],
      "metadata": {
        "id": "9gRR3yxuGlb0"
      },
      "execution_count": null,
      "outputs": []
    },
    {
      "cell_type": "code",
      "source": [
        "autoencoder, encoder = autoencoder(dims, init=init)"
      ],
      "metadata": {
        "id": "5DLN38W1GriZ"
      },
      "execution_count": null,
      "outputs": []
    },
    {
      "cell_type": "code",
      "source": [
        "from keras.utils.vis_utils import plot_model\n",
        "plot_model(autoencoder, to_file='autoencoder.png', show_shapes=True)\n",
        "from IPython.display import Image\n",
        "Image(filename='autoencoder.png')"
      ],
      "metadata": {
        "colab": {
          "base_uri": "https://localhost:8080/",
          "height": 976
        },
        "id": "MK8xP_zZGueN",
        "outputId": "58ad5439-048b-4cba-e1ea-4036bac8acf1"
      },
      "execution_count": null,
      "outputs": [
        {
          "output_type": "execute_result",
          "data": {
            "text/plain": [
              "<IPython.core.display.Image object>"
            ],
            "image/png": "[encoded data removed]"
          },
          "metadata": {},
          "execution_count": 167
        }
      ]
    },
    {
      "cell_type": "code",
      "source": [
        "from keras.utils.vis_utils import plot_model\n",
        "plot_model(encoder, to_file='encoder.png', show_shapes=True)\n",
        "from IPython.display import Image\n",
        "Image(filename='encoder.png')"
      ],
      "metadata": {
        "colab": {
          "base_uri": "https://localhost:8080/",
          "height": 533
        },
        "id": "vWLScGC4G5kZ",
        "outputId": "f8a120ae-9b2f-41b3-e1ee-eaf9c7d9b8f5"
      },
      "execution_count": null,
      "outputs": [
        {
          "output_type": "execute_result",
          "data": {
            "text/plain": [
              "<IPython.core.display.Image object>"
            ],
            "image/png": "[encoded data removed]"
          },
          "metadata": {},
          "execution_count": 168
        }
      ]
    },
    {
      "cell_type": "code",
      "source": [
        "autoencoder.compile(optimizer=pretrain_optimizer, loss='mse')\n",
        "autoencoder.fit(x, x, batch_size=batch_size, epochs=pretrain_epochs)"
      ],
      "metadata": {
        "colab": {
          "base_uri": "https://localhost:8080/"
        },
        "id": "1Q7s-hcNHAVN",
        "outputId": "aaebf540-c1dc-4a08-9d1e-11ac715b9b15"
      },
      "execution_count": null,
      "outputs": [
        {
          "output_type": "stream",
          "name": "stdout",
          "text": [
            "Epoch 1/15\n",
            "1/1 [==============================] - 1s 667ms/step - loss: 0.0013\n",
            "Epoch 2/15\n",
            "1/1 [==============================] - 0s 116ms/step - loss: 0.0013\n",
            "Epoch 3/15\n",
            "1/1 [==============================] - 0s 125ms/step - loss: 0.0013\n",
            "Epoch 4/15\n",
            "1/1 [==============================] - 0s 112ms/step - loss: 0.0013\n",
            "Epoch 5/15\n",
            "1/1 [==============================] - 0s 115ms/step - loss: 0.0013\n",
            "Epoch 6/15\n",
            "1/1 [==============================] - 0s 114ms/step - loss: 0.0013\n",
            "Epoch 7/15\n",
            "1/1 [==============================] - 0s 125ms/step - loss: 0.0013\n",
            "Epoch 8/15\n",
            "1/1 [==============================] - 0s 119ms/step - loss: 0.0013\n",
            "Epoch 9/15\n",
            "1/1 [==============================] - 0s 115ms/step - loss: 0.0013\n",
            "Epoch 10/15\n",
            "1/1 [==============================] - 0s 112ms/step - loss: 0.0013\n",
            "Epoch 11/15\n",
            "1/1 [==============================] - 0s 120ms/step - loss: 0.0013\n",
            "Epoch 12/15\n",
            "1/1 [==============================] - 0s 116ms/step - loss: 0.0013\n",
            "Epoch 13/15\n",
            "1/1 [==============================] - 0s 115ms/step - loss: 0.0013\n",
            "Epoch 14/15\n",
            "1/1 [==============================] - 0s 111ms/step - loss: 0.0013\n",
            "Epoch 15/15\n",
            "1/1 [==============================] - 0s 111ms/step - loss: 0.0013\n"
          ]
        },
        {
          "output_type": "execute_result",
          "data": {
            "text/plain": [
              "<keras.callbacks.History at 0x7fa3a0345690>"
            ]
          },
          "metadata": {},
          "execution_count": 169
        }
      ]
    },
    {
      "cell_type": "code",
      "source": [
        "clustering_layer = ClusteringLayer(n_clusters, name='clustering')(encoder.output)\n",
        "model = Model(inputs=encoder.input, outputs=clustering_layer)"
      ],
      "metadata": {
        "id": "VYk7ycjbHOhA"
      },
      "execution_count": null,
      "outputs": []
    },
    {
      "cell_type": "code",
      "source": [
        "from keras.utils.vis_utils import plot_model\n",
        "plot_model(model, to_file='model.png', show_shapes=True)\n",
        "from IPython.display import Image\n",
        "Image(filename='model.png')"
      ],
      "metadata": {
        "colab": {
          "base_uri": "https://localhost:8080/",
          "height": 644
        },
        "id": "-PXFgn2pHWBe",
        "outputId": "ceaf35ff-17ea-4774-9cf1-ab985a6a58e6"
      },
      "execution_count": null,
      "outputs": [
        {
          "output_type": "execute_result",
          "data": {
            "text/plain": [
              "<IPython.core.display.Image object>"
            ],
            "image/png": "[encoded data removed]"
          },
          "metadata": {},
          "execution_count": 171
        }
      ]
    },
    {
      "cell_type": "code",
      "source": [
        "model.compile(optimizer=SGD(0.01, 0.9), loss='kld')"
      ],
      "metadata": {
        "id": "LJsr_EZUHZZD"
      },
      "execution_count": null,
      "outputs": []
    },
    {
      "cell_type": "code",
      "source": [
        "encoder.predict(x)"
      ],
      "metadata": {
        "colab": {
          "base_uri": "https://localhost:8080/"
        },
        "id": "utoBH-N6IqFV",
        "outputId": "573e8f9f-44c2-4a93-de75-2179f012b0ba"
      },
      "execution_count": null,
      "outputs": [
        {
          "output_type": "execute_result",
          "data": {
            "text/plain": [
              "array([[-4.15127637e-04,  6.78610086e-05, -1.05089322e-03,\n",
              "        -3.99042328e-04, -2.87595030e-04,  1.50717387e-04,\n",
              "        -6.35140343e-04,  1.03451475e-03, -9.11934418e-04,\n",
              "        -1.27478328e-04],\n",
              "       [-4.55014524e-04,  4.12890804e-04, -1.44814095e-03,\n",
              "        -4.19057062e-04, -7.99106550e-04,  9.27927729e-04,\n",
              "        -8.32494232e-04,  1.20404642e-03, -8.09301389e-04,\n",
              "         6.37704565e-04],\n",
              "       [-5.18181711e-04, -2.24244795e-05, -8.39211803e-04,\n",
              "        -7.67813064e-04, -2.84668698e-04,  2.08137499e-05,\n",
              "        -7.32369837e-04,  1.15515175e-03, -6.81295642e-04,\n",
              "        -2.83108413e-04],\n",
              "       [-6.23490429e-04, -1.58947369e-04, -1.28145877e-03,\n",
              "        -3.90456698e-04, -7.26791855e-04,  5.55420993e-04,\n",
              "        -5.49553079e-04,  1.67330576e-03, -1.31182349e-03,\n",
              "        -8.40460067e-04],\n",
              "       [-1.00668019e-03,  2.57909123e-05, -8.78535269e-04,\n",
              "        -7.97578832e-04, -3.45002307e-04,  5.19346853e-04,\n",
              "        -8.02037015e-04,  1.38813606e-03, -1.52577227e-03,\n",
              "        -3.07215756e-04],\n",
              "       [-8.58338433e-04, -3.69006375e-05, -1.11742970e-03,\n",
              "        -3.04188783e-04, -5.07483026e-04, -9.03564505e-05,\n",
              "        -1.03675807e-03,  6.54930831e-04, -6.02450746e-04,\n",
              "        -4.54644673e-04],\n",
              "       [-2.82090768e-04,  5.93212535e-05, -5.75091108e-04,\n",
              "        -4.35018184e-04, -2.41415953e-04,  3.03141307e-04,\n",
              "        -7.11014261e-04,  1.35042577e-03, -1.29142217e-03,\n",
              "        -7.39502895e-04],\n",
              "       [-1.09452358e-03,  4.60566138e-04, -1.29976170e-03,\n",
              "        -1.55157084e-03, -4.23759688e-04,  1.51431726e-04,\n",
              "        -1.32804702e-03,  7.48200226e-04, -1.28580246e-03,\n",
              "        -1.98692054e-04],\n",
              "       [-1.40297820e-03,  3.41024948e-04, -2.23436230e-03,\n",
              "         6.26562105e-05, -1.83076874e-04, -8.61658365e-04,\n",
              "        -2.65153474e-04,  3.75843886e-03, -2.67566228e-03,\n",
              "        -2.12326576e-03],\n",
              "       [-6.99159456e-04,  2.48335215e-04, -1.03018444e-03,\n",
              "        -4.19536314e-04, -4.65049292e-04, -4.30596847e-05,\n",
              "        -8.70798365e-04,  1.51523377e-03, -1.08205492e-03,\n",
              "        -6.30675000e-04],\n",
              "       [-4.89879632e-04,  2.40575144e-04, -1.30640995e-03,\n",
              "        -7.14577152e-04, -5.51925274e-04,  1.49108557e-04,\n",
              "        -1.14064408e-03,  1.07354007e-03, -7.99724483e-04,\n",
              "        -4.99992093e-05],\n",
              "       [-1.01019104e-03,  1.00388750e-03, -1.30238663e-03,\n",
              "        -4.02076053e-04, -9.74494498e-04, -3.02882618e-05,\n",
              "        -1.06891640e-03,  1.31190475e-03, -2.11109826e-03,\n",
              "        -6.13831799e-05],\n",
              "       [-6.82181679e-04, -2.06874742e-04, -4.83109965e-04,\n",
              "        -9.57562122e-04,  1.05871353e-04, -1.44134974e-04,\n",
              "        -7.19580334e-04,  1.30589888e-03, -1.48175098e-03,\n",
              "        -4.88361111e-04],\n",
              "       [-5.48093580e-04, -9.22483232e-05, -1.27180119e-03,\n",
              "        -4.25630977e-04, -1.45278987e-04, -1.30164597e-04,\n",
              "        -1.06496015e-03,  1.73658063e-03, -1.50876550e-03,\n",
              "        -6.89924811e-04],\n",
              "       [-5.27484633e-04,  1.03374966e-03, -1.75730034e-03,\n",
              "        -6.94286660e-04, -4.27321298e-04,  1.43669298e-04,\n",
              "        -1.09145511e-03,  1.23201590e-03, -1.21043553e-03,\n",
              "        -4.87980258e-04],\n",
              "       [-7.50275794e-04, -5.80962747e-04, -7.70456973e-04,\n",
              "        -9.93717229e-04,  3.77710501e-04,  6.31665025e-05,\n",
              "        -5.69163123e-04,  2.08970113e-03, -9.52086353e-04,\n",
              "        -1.00895436e-03],\n",
              "       [-1.66290486e-03,  8.33843587e-05, -1.38604338e-03,\n",
              "        -4.99147631e-04,  4.29744017e-04, -3.77802644e-04,\n",
              "        -8.78580962e-04,  1.28155551e-03, -1.13564101e-03,\n",
              "        -4.31624008e-04],\n",
              "       [-6.25057844e-04, -6.74978655e-04, -1.21749751e-03,\n",
              "        -7.06285937e-04, -4.25829756e-04,  2.65770184e-04,\n",
              "        -1.37855846e-03,  2.18014023e-03, -9.03329230e-04,\n",
              "        -2.23325146e-03],\n",
              "       [-1.13226334e-03,  2.08975485e-04, -1.11905346e-03,\n",
              "        -3.67010303e-04, -4.69833380e-04,  1.32192028e-04,\n",
              "        -1.00580091e-03,  1.71704474e-03, -8.12051934e-04,\n",
              "        -5.71325421e-04],\n",
              "       [-6.90111250e-04,  1.42531586e-04, -3.40555445e-04,\n",
              "        -4.94323613e-05,  3.38174577e-04,  4.40441188e-04,\n",
              "        -1.37181231e-03,  2.38547428e-03, -1.38592825e-03,\n",
              "        -1.77449686e-03],\n",
              "       [-3.49609210e-04, -9.79332763e-05, -1.07790367e-03,\n",
              "        -8.41999310e-04, -4.74491651e-04,  3.87901615e-04,\n",
              "        -3.02360597e-04,  1.35546632e-03, -1.20555016e-03,\n",
              "         2.57514097e-04],\n",
              "       [-4.85333789e-04, -1.90322578e-04, -1.59913581e-03,\n",
              "        -7.58173759e-04,  3.72916111e-05,  3.05792841e-04,\n",
              "        -4.62828903e-04,  1.50968868e-03, -1.07815047e-03,\n",
              "        -4.02216858e-04],\n",
              "       [-8.00459529e-04,  1.85358876e-05, -5.13191568e-04,\n",
              "        -6.04568049e-04, -5.39740315e-04, -7.30494648e-05,\n",
              "        -8.60222965e-04,  1.45763159e-03, -9.98431817e-04,\n",
              "        -6.03198423e-04],\n",
              "       [-3.89780093e-04, -8.65064576e-05, -1.08420127e-03,\n",
              "        -5.11750579e-04, -4.00067947e-05, -6.25072862e-05,\n",
              "        -9.83305275e-04,  1.42626767e-03, -9.20128892e-04,\n",
              "        -8.31099169e-04],\n",
              "       [-1.02387671e-03, -4.14400041e-04, -1.34166307e-03,\n",
              "        -1.18982268e-03, -1.79143957e-04,  4.79430251e-04,\n",
              "        -4.48947540e-05,  1.79565931e-03, -1.02194934e-03,\n",
              "        -5.24465751e-04],\n",
              "       [-8.38184438e-04, -2.62236339e-04, -1.66853366e-03,\n",
              "        -1.59788737e-03, -3.17906059e-04,  3.82761587e-04,\n",
              "        -6.26391324e-04,  1.18529738e-03, -7.36278947e-04,\n",
              "         1.27958454e-04],\n",
              "       [-3.18872801e-04,  2.20795555e-05, -1.28906476e-03,\n",
              "        -7.79323280e-04, -1.19964592e-04,  1.01808393e-04,\n",
              "        -8.93328805e-04,  1.46877579e-03, -1.12344697e-03,\n",
              "        -1.05708535e-03],\n",
              "       [-1.13698456e-03, -4.73595515e-04, -8.20410380e-04,\n",
              "        -2.58551299e-04,  1.94010499e-04, -9.66661843e-04,\n",
              "        -1.53680169e-03,  2.53330846e-03, -1.42215739e-03,\n",
              "        -1.69371907e-03],\n",
              "       [-1.13123481e-03, -1.76157540e-04, -1.45419082e-03,\n",
              "        -8.45710980e-04, -1.63023287e-04,  5.31152065e-04,\n",
              "        -1.05386251e-03,  1.48411910e-03, -9.20361490e-04,\n",
              "        -7.26498838e-04],\n",
              "       [-8.19470501e-04,  6.44388085e-04, -5.82496985e-04,\n",
              "        -7.93817686e-04, -1.91827421e-05, -3.73466639e-04,\n",
              "        -1.18592323e-03,  8.53854697e-04, -1.40104687e-03,\n",
              "         4.59290837e-04],\n",
              "       [-1.13005762e-03,  2.52376194e-04, -3.47404130e-04,\n",
              "        -4.65610588e-04, -3.13959899e-04, -1.25611419e-04,\n",
              "        -1.04595709e-03,  2.18790141e-03, -1.71845371e-03,\n",
              "        -8.98091763e-04],\n",
              "       [-9.34845128e-04, -1.04986895e-04, -1.07928994e-03,\n",
              "        -1.35308912e-03,  3.76808690e-04,  5.23095252e-04,\n",
              "        -3.19568615e-04,  1.75460207e-03, -1.28757977e-03,\n",
              "        -1.17894735e-04],\n",
              "       [-4.73213382e-04,  6.65165251e-04, -1.61297922e-03,\n",
              "        -2.41449146e-04, -3.82713421e-04, -1.22199868e-04,\n",
              "        -1.31543190e-03,  1.78915809e-03, -1.22001243e-03,\n",
              "        -1.00591045e-03],\n",
              "       [-1.05371384e-03,  3.17743776e-04, -1.29915297e-03,\n",
              "        -7.93769956e-04, -8.88566312e-04, -9.78786557e-06,\n",
              "        -6.24519715e-04,  2.16613570e-03, -1.09353033e-03,\n",
              "        -5.53981110e-04],\n",
              "       [-1.88732403e-03,  1.63906414e-04, -9.77335963e-04,\n",
              "        -7.12753623e-04,  7.55683635e-04, -1.13504706e-03,\n",
              "        -8.14070809e-04,  2.73809419e-03, -1.36269280e-03,\n",
              "        -1.44667795e-03],\n",
              "       [-1.62926374e-03, -1.12460919e-04, -1.82294555e-03,\n",
              "        -1.95665960e-03,  3.99084936e-04,  3.39259568e-04,\n",
              "        -4.89009428e-04,  1.73093379e-03, -1.84356619e-03,\n",
              "         6.83760212e-04],\n",
              "       [-1.45975151e-04, -4.26779094e-04, -1.64668460e-03,\n",
              "        -1.41052203e-03, -1.48389814e-03,  6.70844864e-04,\n",
              "        -4.42638004e-04,  9.44671105e-04, -1.56471669e-03,\n",
              "         2.92259210e-04],\n",
              "       [-9.04854154e-04,  5.98020328e-04, -1.40899490e-03,\n",
              "         4.73859167e-04, -7.54177687e-04,  4.97832720e-04,\n",
              "        -1.02942839e-04,  1.14277890e-03, -2.06336239e-03,\n",
              "        -1.51667814e-03],\n",
              "       [-2.67565920e-04,  7.20762982e-05, -1.50527933e-03,\n",
              "        -9.64874751e-04, -4.18979791e-04,  1.29792455e-03,\n",
              "        -2.28476734e-03,  3.09946039e-03, -1.87112053e-03,\n",
              "        -2.82406108e-05],\n",
              "       [-1.95925753e-03, -3.45659006e-04, -1.13503647e-03,\n",
              "        -1.12405658e-04, -1.24641345e-04,  8.22039088e-04,\n",
              "        -3.30320443e-03,  4.30186000e-03, -2.28705863e-03,\n",
              "        -2.11626105e-03],\n",
              "       [-2.96553946e-03, -4.11030778e-04, -2.61954917e-03,\n",
              "        -2.39249854e-03, -2.00829608e-03, -2.26957738e-04,\n",
              "        -1.59430434e-03,  2.70766625e-03, -1.72531803e-03,\n",
              "        -1.63249334e-03],\n",
              "       [-1.39563507e-03,  4.53017768e-04, -1.05163979e-03,\n",
              "        -1.56033027e-03, -4.20439756e-04, -5.53677964e-04,\n",
              "        -1.07038347e-03,  2.81151873e-03, -3.66568798e-03,\n",
              "        -1.46142219e-03],\n",
              "       [-6.97651238e-04, -5.49231365e-04, -9.40600352e-04,\n",
              "        -1.50863605e-04, -5.38342400e-04, -1.54456866e-04,\n",
              "        -1.51467789e-03,  2.05429923e-03, -1.52006710e-03,\n",
              "        -3.54724849e-04],\n",
              "       [-4.24811267e-04,  9.86666768e-04, -1.41307083e-03,\n",
              "        -4.21449018e-04, -7.31577631e-04,  3.00389802e-04,\n",
              "        -1.22007309e-03,  1.40629103e-03, -8.13124294e-04,\n",
              "        -6.63557075e-05],\n",
              "       [-5.25646086e-04,  1.27174589e-03, -2.14577466e-03,\n",
              "        -3.59603378e-04, -5.62650093e-04, -3.37399950e-04,\n",
              "        -1.82173355e-03,  1.44505082e-03, -1.21644523e-03,\n",
              "         4.99010726e-04],\n",
              "       [-1.01654814e-03,  9.08879956e-05, -1.35126046e-03,\n",
              "        -1.50446338e-03, -7.87834229e-04, -2.42327238e-04,\n",
              "        -1.25580328e-03,  2.27873330e-03, -2.13864096e-03,\n",
              "        -1.29740115e-03],\n",
              "       [-1.20029401e-03, -1.31587032e-04, -1.21606851e-03,\n",
              "        -4.38546529e-04,  1.47520681e-04,  1.08842069e-04,\n",
              "        -2.59211258e-04,  2.64582597e-03, -1.14295213e-03,\n",
              "        -9.42531973e-04],\n",
              "       [-7.60109513e-04, -4.80597082e-04, -8.69882177e-04,\n",
              "        -1.74220756e-03,  1.34495524e-04, -1.22781988e-04,\n",
              "        -1.13318558e-03,  1.06377958e-03, -2.00906163e-03,\n",
              "        -1.54886895e-03],\n",
              "       [-7.90709048e-04, -6.69750225e-05, -1.39958109e-03,\n",
              "        -1.03620882e-03, -5.95042773e-04,  1.68280152e-03,\n",
              "        -1.65901263e-03,  1.89436402e-03, -1.42225041e-03,\n",
              "        -6.07768947e-04],\n",
              "       [-9.45170701e-04, -7.82309449e-04, -4.57590475e-04,\n",
              "        -2.82802212e-04, -9.02363448e-04,  1.53958827e-05,\n",
              "        -1.56047312e-03,  2.08692672e-03, -7.33647146e-04,\n",
              "        -1.19732390e-03],\n",
              "       [-8.50792741e-04, -3.75728356e-04, -1.44711114e-03,\n",
              "        -1.29811512e-03, -1.47515704e-04, -8.57801497e-05,\n",
              "        -1.10877072e-03,  2.55291583e-03, -1.46250986e-03,\n",
              "        -1.24611473e-03],\n",
              "       [-1.47362077e-03, -5.66885283e-04, -1.22739829e-03,\n",
              "        -4.66851401e-04, -5.02848474e-04, -3.66761233e-05,\n",
              "        -2.44910538e-04,  1.46631151e-03, -1.55215035e-03,\n",
              "         1.13604438e-04],\n",
              "       [-9.12196701e-04, -2.82040637e-05, -4.21776611e-04,\n",
              "        -8.78172461e-04,  4.07781918e-05,  7.58910377e-04,\n",
              "         1.72306027e-04,  2.86939833e-03, -2.41552596e-03,\n",
              "        -1.66603643e-03],\n",
              "       [-1.10852136e-03, -2.44162598e-04, -9.77338874e-04,\n",
              "        -2.00334471e-03, -2.05540709e-04, -8.72472825e-04,\n",
              "        -1.99527456e-03,  1.89628708e-03, -1.29617215e-03,\n",
              "        -6.58153614e-04],\n",
              "       [-1.81169552e-03, -1.74003158e-04, -1.39351084e-03,\n",
              "        -1.31994125e-03,  6.48227928e-04, -3.32949276e-04,\n",
              "        -7.57427595e-04,  2.25076219e-04, -1.63379847e-03,\n",
              "         3.88522312e-04],\n",
              "       [-2.32227473e-03,  4.88297010e-05, -1.79402577e-03,\n",
              "        -1.23448123e-03,  7.57204369e-04, -5.21185168e-04,\n",
              "        -1.21947657e-03,  2.06263177e-03, -7.99841247e-04,\n",
              "         1.02109404e-03],\n",
              "       [-1.64732407e-03,  1.52100343e-04, -3.24444263e-04,\n",
              "         1.99907488e-04, -1.41316256e-03, -3.45146749e-04,\n",
              "        -8.89440358e-04,  2.55447486e-03, -9.74590308e-04,\n",
              "        -1.56661018e-03],\n",
              "       [-1.04835478e-03, -1.29146298e-04, -8.74350488e-04,\n",
              "        -1.88503065e-04, -4.74304776e-04,  5.92528522e-05,\n",
              "        -1.14718033e-03,  2.25761277e-03, -2.47343979e-03,\n",
              "        -1.53237279e-03],\n",
              "       [-6.28256123e-04, -2.11841834e-04, -1.48975721e-03,\n",
              "        -3.41404724e-04, -1.17379497e-03,  1.07854407e-03,\n",
              "        -3.48762434e-04,  2.43270863e-03, -3.19907349e-03,\n",
              "        -1.55223510e-03],\n",
              "       [-5.66409854e-03, -2.19048304e-03, -3.80164199e-03,\n",
              "        -9.02582426e-04, -2.10411963e-03,  1.10836164e-03,\n",
              "        -2.71180994e-03,  2.97579356e-03, -8.25088762e-04,\n",
              "        -3.85711086e-03],\n",
              "       [-7.38113595e-04, -6.34835451e-04, -1.56281097e-03,\n",
              "        -1.61824271e-03, -4.74702683e-04,  9.83046950e-04,\n",
              "        -1.03972363e-03,  4.82150237e-04, -2.26796698e-03,\n",
              "         4.90984414e-04],\n",
              "       [-4.73026512e-03,  2.56114668e-04, -3.36076529e-03,\n",
              "        -3.06571135e-03, -1.15171820e-03, -1.32575235e-03,\n",
              "        -3.09537025e-03,  4.61302232e-03, -1.17424614e-04,\n",
              "        -2.22919718e-03],\n",
              "       [-7.48076825e-04,  1.61620730e-03, -1.54313911e-03,\n",
              "        -1.97810470e-03, -1.78186712e-03,  7.42216012e-04,\n",
              "        -1.51502679e-03,  3.23694828e-03, -2.44985265e-03,\n",
              "         1.23232242e-03],\n",
              "       [-3.05965520e-03,  1.21739018e-03, -1.86707592e-03,\n",
              "        -1.68723112e-03, -4.78995236e-04, -1.49505926e-04,\n",
              "        -1.25528243e-03,  1.80764473e-03, -1.60472153e-03,\n",
              "        -8.47099727e-06],\n",
              "       [-1.73606165e-03, -1.68544910e-04, -7.54874200e-04,\n",
              "        -1.41836202e-03,  7.91166909e-04, -4.83193900e-04,\n",
              "        -1.78754749e-03,  2.60487781e-03, -2.59532919e-03,\n",
              "        -2.62113172e-03],\n",
              "       [-1.47230178e-03,  6.02985849e-04, -6.19686965e-04,\n",
              "        -1.20023999e-03, -1.01342401e-03,  2.17833425e-04,\n",
              "        -3.33430734e-03,  4.94518725e-04, -1.03780045e-03,\n",
              "        -1.21111365e-03],\n",
              "       [-2.86683254e-03, -5.56581770e-04, -1.27696211e-03,\n",
              "        -2.55729374e-03, -6.53456140e-04,  4.45104728e-04,\n",
              "        -2.59734225e-03,  3.52932373e-03, -4.32702806e-03,\n",
              "        -2.63584801e-03],\n",
              "       [-7.50105071e-04,  2.50538811e-04, -1.34782470e-03,\n",
              "        -9.47735389e-04, -1.98866730e-03,  6.11810770e-04,\n",
              "        -9.81858699e-04,  1.08611071e-03, -2.72148778e-03,\n",
              "        -1.09975832e-03],\n",
              "       [-2.11411109e-03,  8.25049938e-04, -2.74573942e-03,\n",
              "        -1.51314179e-03, -1.82772940e-03,  7.45019206e-05,\n",
              "        -1.52419717e-03, -5.22522256e-04, -1.89482316e-03,\n",
              "         2.92015378e-04],\n",
              "       [-2.86139036e-03,  6.73791685e-04, -1.30525162e-03,\n",
              "        -3.59605253e-03, -1.04106381e-04,  2.35532396e-04,\n",
              "        -1.74617325e-03,  1.98568194e-03, -1.90102111e-03,\n",
              "        -1.34666014e-04],\n",
              "       [-4.99525398e-04, -2.74694088e-04, -3.11864819e-03,\n",
              "        -1.51446403e-03, -1.29797508e-03,  1.05552038e-03,\n",
              "        -1.63082918e-03,  1.63418788e-03, -1.44163892e-03,\n",
              "        -7.49473518e-04],\n",
              "       [-4.12045920e-04,  1.24426768e-03, -1.39772077e-04,\n",
              "        -1.92007713e-03, -1.40166562e-03,  5.74207515e-04,\n",
              "        -5.52219106e-04,  2.48580007e-03, -1.25010894e-03,\n",
              "        -2.03010300e-03],\n",
              "       [-1.73124531e-03, -3.71324248e-04, -7.53540604e-04,\n",
              "        -6.92304224e-04, -6.13313168e-04, -1.12549670e-03,\n",
              "        -5.60561602e-04,  2.87166541e-03, -1.34331954e-03,\n",
              "        -1.00846565e-03],\n",
              "       [ 4.15699440e-04, -3.38546175e-04, -1.97815197e-03,\n",
              "        -1.23768090e-03, -3.97999102e-04,  1.72506226e-03,\n",
              "        -1.57084502e-03,  1.82859495e-03, -2.39630206e-03,\n",
              "        -2.64138239e-03],\n",
              "       [-1.15499948e-03,  8.88857350e-04, -1.49808871e-03,\n",
              "        -1.50687248e-03, -6.47235312e-04,  5.33904182e-04,\n",
              "        -1.00177689e-03,  1.66655995e-03, -2.36170273e-03,\n",
              "        -1.04201306e-03],\n",
              "       [-1.54262211e-03,  1.77336042e-03, -5.51232079e-04,\n",
              "        -1.04486628e-03, -1.59948389e-03,  3.10704287e-04,\n",
              "        -2.73028156e-03,  2.74262810e-03, -1.61443907e-03,\n",
              "         6.93642476e-04],\n",
              "       [-3.23287630e-03, -4.95280474e-05, -7.52082095e-04,\n",
              "        -6.64403313e-04,  2.43849703e-04, -1.33525042e-04,\n",
              "        -2.17673776e-04,  4.44837287e-03, -1.66751444e-03,\n",
              "        -1.67011819e-03],\n",
              "       [-1.52204395e-03,  5.77753177e-04, -1.06877438e-03,\n",
              "        -1.47315348e-03,  6.68197172e-05, -4.54658293e-04,\n",
              "        -1.35154370e-03,  4.95576474e-04, -2.62337853e-03,\n",
              "         8.24930321e-04],\n",
              "       [-1.84482173e-03,  1.01721438e-03, -3.47916153e-03,\n",
              "        -2.80657230e-04, -2.20571202e-03,  2.85469904e-03,\n",
              "        -2.21342780e-03,  1.52469345e-03, -3.28442012e-03,\n",
              "         2.63674039e-04],\n",
              "       [-1.34573563e-03, -2.12018145e-04, -9.78968339e-04,\n",
              "        -1.28905568e-03,  7.82618066e-04,  6.84806670e-04,\n",
              "        -1.20028271e-05,  2.82816007e-03, -1.74619036e-03,\n",
              "        -9.28214693e-04],\n",
              "       [-2.09789863e-03, -6.05609850e-04, -1.69372687e-03,\n",
              "        -2.29193992e-03, -2.75193644e-03,  1.26759725e-04,\n",
              "        -1.51351781e-03,  2.32928013e-03, -1.50590739e-03,\n",
              "         8.74869176e-04],\n",
              "       [-1.83778233e-03,  4.89515543e-04, -1.27656758e-03,\n",
              "        -3.87931650e-05, -6.65241037e-04,  1.47278668e-04,\n",
              "         2.76653969e-04,  2.01919954e-03, -1.21296791e-03,\n",
              "        -5.13797393e-04],\n",
              "       [-8.90987460e-04,  1.85295683e-03, -4.00091812e-04,\n",
              "        -1.86269369e-03, -2.81463214e-03, -2.19086258e-04,\n",
              "        -1.19646476e-03,  3.04366369e-03, -3.71845183e-03,\n",
              "        -1.44110108e-03],\n",
              "       [-1.46903121e-03,  5.31977974e-04, -5.22107992e-04,\n",
              "        -2.05245172e-03,  9.94767062e-04, -1.12413289e-03,\n",
              "        -7.66100187e-04,  4.07771347e-03, -2.60938774e-03,\n",
              "        -1.37968664e-03],\n",
              "       [-1.35280483e-03, -1.13332446e-03, -1.79560599e-03,\n",
              "        -1.45957095e-03,  9.11379175e-05, -7.02701072e-05,\n",
              "        -9.71864793e-04,  2.26571457e-03, -1.38146582e-03,\n",
              "        -1.71368301e-04],\n",
              "       [-1.76828902e-03, -7.08742475e-04, -1.79578667e-04,\n",
              "        -7.37597060e-04, -2.37854780e-04,  5.32740436e-04,\n",
              "        -6.42228231e-04,  2.40778411e-03, -1.93530763e-03,\n",
              "        -1.20801921e-03],\n",
              "       [-5.70087985e-04,  1.98486116e-04, -2.10643467e-03,\n",
              "        -6.34739292e-04, -2.54598586e-03,  1.25855324e-03,\n",
              "        -8.97970982e-04,  1.45954872e-03, -2.31265207e-03,\n",
              "        -6.18976133e-04],\n",
              "       [-1.60358555e-03, -5.24981646e-04, -1.36832823e-04,\n",
              "         2.85716378e-05, -6.37936057e-04, -9.55165597e-04,\n",
              "        -1.90123264e-03,  2.62404373e-03, -1.48223690e-03,\n",
              "        -1.78820873e-03],\n",
              "       [-7.43040058e-04, -3.17243030e-05, -8.41353962e-04,\n",
              "        -6.77933451e-04, -5.66876843e-04,  2.58496439e-04,\n",
              "        -7.03660189e-04,  1.88510621e-03, -1.16579561e-03,\n",
              "        -1.95208457e-04],\n",
              "       [ 3.27044603e-04, -1.57835515e-04, -1.42802135e-03,\n",
              "        -1.02788350e-03, -1.53146777e-03,  6.60618709e-04,\n",
              "        -1.73314102e-03,  8.23016395e-04, -2.76901713e-03,\n",
              "         5.50394238e-04],\n",
              "       [-7.38850620e-04,  1.58886111e-03, -7.75376684e-04,\n",
              "        -7.36128888e-04, -2.78895115e-03, -3.09768599e-04,\n",
              "        -1.13574555e-04,  1.67299085e-03, -2.28232355e-03,\n",
              "         3.46739922e-04],\n",
              "       [-6.81431382e-04,  9.84310755e-04, -7.90243444e-04,\n",
              "        -5.05945762e-04, -8.63475900e-04,  6.33348536e-04,\n",
              "        -3.22623574e-03,  2.68747937e-03, -2.06094794e-03,\n",
              "        -3.61883920e-03],\n",
              "       [-1.23189064e-03, -1.30720530e-03, -1.49091543e-03,\n",
              "        -1.69873249e-03, -1.41147932e-04,  1.26146234e-03,\n",
              "        -1.12802698e-03,  2.68551614e-03, -1.00719091e-03,\n",
              "        -1.87067955e-03],\n",
              "       [-1.20514666e-03,  2.50678370e-03, -2.47111404e-03,\n",
              "        -2.15973565e-03,  7.21385004e-05,  9.51094116e-05,\n",
              "        -1.18368445e-03,  8.90030875e-04, -2.34144100e-05,\n",
              "         3.34925251e-04],\n",
              "       [-4.25122958e-03,  2.06662808e-04, -1.80342817e-03,\n",
              "        -1.50265417e-03, -1.43579138e-03, -1.55377854e-03,\n",
              "        -2.02590274e-03,  4.05463018e-03, -2.84272269e-03,\n",
              "        -1.98499300e-03],\n",
              "       [-9.07909358e-04,  1.18813023e-03, -1.98236015e-03,\n",
              "        -1.41617842e-03,  4.06378123e-04,  1.74522953e-04,\n",
              "        -1.67199248e-03,  1.70428981e-03, -2.18084641e-03,\n",
              "        -1.85826048e-03],\n",
              "       [-1.95741141e-03,  7.77604291e-04, -1.53081201e-03,\n",
              "        -1.54010043e-03,  1.37804396e-04, -7.88571022e-04,\n",
              "        -6.56469958e-04,  2.64735287e-03, -1.42734987e-03,\n",
              "        -4.60924930e-04],\n",
              "       [-2.28752149e-03,  1.25142932e-03, -3.15309921e-03,\n",
              "        -9.78719676e-04,  1.09226047e-03, -1.01242913e-03,\n",
              "        -3.72421287e-04,  3.04239523e-03, -1.44045625e-03,\n",
              "         2.62189336e-04],\n",
              "       [-1.70972577e-04,  3.95968324e-04, -5.42992610e-04,\n",
              "        -2.59429985e-03,  5.03260177e-04,  6.81490987e-04,\n",
              "        -1.44868367e-03,  1.14525063e-03, -2.41514039e-03,\n",
              "        -1.83097669e-04],\n",
              "       [-2.95524765e-03,  4.84058430e-04, -1.94226787e-03,\n",
              "        -1.45708199e-03, -1.79709133e-03,  8.35937681e-04,\n",
              "         3.88799992e-04,  2.90628476e-03, -1.58272951e-03,\n",
              "        -1.29787554e-03]], dtype=float32)"
            ]
          },
          "metadata": {},
          "execution_count": 173
        }
      ]
    },
    {
      "cell_type": "code",
      "source": [
        "kmeans = KMeans(n_clusters=n_clusters, n_init=20)\n",
        "y_pred = kmeans.fit_predict(encoder.predict(x))"
      ],
      "metadata": {
        "id": "ZkNpyhAiHdTf"
      },
      "execution_count": null,
      "outputs": []
    },
    {
      "cell_type": "code",
      "source": [
        "y_pred_last = np.copy(y_pred)\n",
        "y_pred_last"
      ],
      "metadata": {
        "colab": {
          "base_uri": "https://localhost:8080/"
        },
        "id": "oz7906mHLZag",
        "outputId": "e6f20502-4c1e-4f05-aa51-57ec37d89f87"
      },
      "execution_count": null,
      "outputs": [
        {
          "output_type": "execute_result",
          "data": {
            "text/plain": [
              "array([1, 1, 1, 1, 1, 1, 1, 1, 0, 1, 1, 1, 1, 1, 1, 1, 1, 0, 1, 0, 1, 1,\n",
              "       1, 1, 1, 1, 1, 0, 1, 1, 1, 1, 1, 1, 0, 1, 1, 1, 1, 0, 0, 0, 1, 1,\n",
              "       1, 0, 1, 1, 1, 1, 0, 1, 0, 1, 1, 1, 0, 0, 0, 0, 1, 0, 1, 1, 0, 1,\n",
              "       0, 1, 1, 1, 1, 0, 0, 0, 1, 1, 0, 1, 1, 0, 1, 1, 0, 0, 1, 0, 1, 0,\n",
              "       1, 1, 1, 0, 0, 1, 0, 0, 1, 1, 1, 0], dtype=int32)"
            ]
          },
          "metadata": {},
          "execution_count": 175
        }
      ]
    },
    {
      "cell_type": "code",
      "source": [
        "np.array(train_data['classid'].values.tolist())"
      ],
      "metadata": {
        "colab": {
          "base_uri": "https://localhost:8080/"
        },
        "id": "VExtwIp1LgGP",
        "outputId": "a2481117-feb4-4a4f-ae66-3dfb8959bfc3"
      },
      "execution_count": null,
      "outputs": [
        {
          "output_type": "execute_result",
          "data": {
            "text/plain": [
              "array([3, 3, 3, 3, 3, 3, 3, 3, 3, 3, 3, 3, 3, 3, 3, 3, 3, 3, 3, 3, 3, 3,\n",
              "       3, 3, 3, 3, 3, 3, 3, 3, 3, 3, 3, 3, 3, 3, 3, 3, 3, 3, 3, 3, 3, 3,\n",
              "       3, 3, 3, 3, 3, 3, 3, 3, 3, 3, 3, 3, 3, 3, 3, 3, 3, 3, 3, 3, 3, 3,\n",
              "       3, 3, 3, 3, 3, 3, 3, 3, 3, 3, 3, 3, 4, 4, 4, 4, 4, 4, 4, 4, 4, 4,\n",
              "       4, 4, 4, 4, 4, 4, 4, 4, 4, 4, 4, 4])"
            ]
          },
          "metadata": {},
          "execution_count": 177
        }
      ]
    }
  ]
}